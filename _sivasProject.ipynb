{
 "cells": [
  {
   "cell_type": "code",
   "execution_count": 38,
   "id": "f4a72e9d-8c15-407c-a39d-477dac30f4de",
   "metadata": {},
   "outputs": [
    {
     "name": "stdout",
     "output_type": "stream",
     "text": [
      "\n",
      "Welcome to the Wellness Retreat Booking System\n",
      "1. Create a new booking\n",
      "2. Exit\n"
     ]
    },
    {
     "name": "stdin",
     "output_type": "stream",
     "text": [
      "Enter your choice:  1\n",
      "Enter User ID:  Arthi\n",
      "Enter number of guests:  3\n"
     ]
    },
    {
     "name": "stdout",
     "output_type": "stream",
     "text": [
      "Available time slots:\n",
      "1. 09:00 AM\n",
      "2. 10:00 AM\n",
      "3. 11:00 AM\n",
      "4. 01:00 PM\n",
      "5. 02:00 PM\n"
     ]
    },
    {
     "name": "stdin",
     "output_type": "stream",
     "text": [
      "Select a time slot by number:  3\n",
      "Enter payment details (Card/Paypal etc.):  card\n",
      "Enter preferred location:  Pondicherry\n"
     ]
    },
    {
     "name": "stdout",
     "output_type": "stream",
     "text": [
      "\n",
      "Booking Details:\n",
      "User ID: Arthi\n",
      "Guests: 3\n",
      "Time Slot: 11:00 AM\n",
      "Payment Details: card\n",
      "Location: Pondicherry\n",
      "Booking with this User ID already exists. Please choose a different User ID.\n",
      "\n",
      "Welcome to the Wellness Retreat Booking System\n",
      "1. Create a new booking\n",
      "2. Exit\n"
     ]
    },
    {
     "name": "stdin",
     "output_type": "stream",
     "text": [
      "Enter your choice:  Arthi\n"
     ]
    },
    {
     "name": "stdout",
     "output_type": "stream",
     "text": [
      "Invalid input, please enter a number.\n",
      "\n",
      "Welcome to the Wellness Retreat Booking System\n",
      "1. Create a new booking\n",
      "2. Exit\n"
     ]
    },
    {
     "name": "stdin",
     "output_type": "stream",
     "text": [
      "Enter your choice:  1\n",
      "Enter User ID:  Arthi\n",
      "Enter number of guests:  1\n"
     ]
    },
    {
     "name": "stdout",
     "output_type": "stream",
     "text": [
      "Available time slots:\n",
      "1. 09:00 AM\n",
      "2. 10:00 AM\n",
      "3. 11:00 AM\n",
      "4. 01:00 PM\n",
      "5. 02:00 PM\n"
     ]
    },
    {
     "name": "stdin",
     "output_type": "stream",
     "text": [
      "Select a time slot by number:  1\n",
      "Enter payment details (Card/Paypal etc.):  paypal\n",
      "Enter preferred location:  villunur\n"
     ]
    },
    {
     "name": "stdout",
     "output_type": "stream",
     "text": [
      "\n",
      "Booking Details:\n",
      "User ID: Arthi\n",
      "Guests: 1\n",
      "Time Slot: 09:00 AM\n",
      "Payment Details: paypal\n",
      "Location: villunur\n",
      "Booking with this User ID already exists. Please choose a different User ID.\n",
      "\n",
      "Welcome to the Wellness Retreat Booking System\n",
      "1. Create a new booking\n",
      "2. Exit\n"
     ]
    },
    {
     "name": "stdin",
     "output_type": "stream",
     "text": [
      "Enter your choice:  2\n"
     ]
    },
    {
     "name": "stdout",
     "output_type": "stream",
     "text": [
      "Exiting the system. Have a great day!\n"
     ]
    }
   ],
   "source": [
    "import os\n",
    "\n",
    "# Class for handling wellness retreat bookings\n",
    "class WellnessRetreat:\n",
    "    available_time_slots = [\n",
    "        '09:00 AM',\n",
    "        '10:00 AM',\n",
    "        '11:00 AM',\n",
    "        '01:00 PM',\n",
    "        '02:00 PM',\n",
    "    ]\n",
    "\n",
    "    def __init__(self, user_id, guests, time_slot, payment_details, location):\n",
    "        self.user_id = user_id\n",
    "        self.guests = guests\n",
    "        self.time_slot = time_slot\n",
    "        self.payment_details = payment_details\n",
    "        self.location = location\n",
    "\n",
    "    def display_details(self):\n",
    "        print(\"\\nBooking Details:\")\n",
    "        print(f\"User ID: {self.user_id}\")\n",
    "        print(f\"Guests: {self.guests}\")\n",
    "        print(f\"Time Slot: {self.time_slot}\")\n",
    "        print(f\"Payment Details: {self.payment_details}\")\n",
    "        print(f\"Location: {self.location}\")\n",
    "\n",
    "    def save_to_file(self):\n",
    "        try:\n",
    "            # Ensure directory exists\n",
    "            if not os.path.exists(\"bookings\"):\n",
    "                os.makedirs(\"bookings\")\n",
    "\n",
    "            # Check if the booking file already exists\n",
    "            if os.path.exists(f\"bookings/booking_{self.user_id}.txt\"):\n",
    "                print(\"Booking with this User ID already exists. Please choose a different User ID.\")\n",
    "                return\n",
    "\n",
    "            # Save booking details to a file\n",
    "            with open(f\"bookings/booking_{self.user_id}.txt\", \"w\") as file:\n",
    "                file.write(f\"User ID: {self.user_id}\\n\")\n",
    "                file.write(f\"Guests: {self.guests}\\n\")\n",
    "                file.write(f\"Time Slot: {self.time_slot}\\n\")\n",
    "                file.write(f\"Payment Details: {self.payment_details}\\n\")\n",
    "                file.write(f\"Location: {self.location}\\n\")\n",
    "            print(\"Booking saved successfully.\")\n",
    "        except Exception as e:\n",
    "            print(f\"An error occurred while saving the booking: {e}\")\n",
    "\n",
    "    @staticmethod\n",
    "    def create_from_input():\n",
    "        try:\n",
    "            user_id = input(\"Enter User ID: \")\n",
    "            guests = input(\"Enter number of guests: \")\n",
    "            if not guests.isdigit() or int(guests) <= 0:\n",
    "                print(\"Please enter a valid number of guests.\")\n",
    "                return None\n",
    "\n",
    "            print(\"Available time slots:\")\n",
    "            for i, slot in enumerate(WellnessRetreat.available_time_slots, start=1):\n",
    "                print(f\"{i}. {slot}\")\n",
    "\n",
    "            time_slot_index = int(input(\"Select a time slot by number: \")) - 1\n",
    "            if time_slot_index < 0 or time_slot_index >= len(WellnessRetreat.available_time_slots):\n",
    "                print(\"Invalid selection. Please try again.\")\n",
    "                return None\n",
    "\n",
    "            time_slot = WellnessRetreat.available_time_slots[time_slot_index]\n",
    "            payment_details = input(\"Enter payment details (Card/Paypal etc.): \")\n",
    "            location = input(\"Enter preferred location: \")\n",
    "            return user_id, guests, time_slot, payment_details, location\n",
    "        except Exception as e:\n",
    "            print(f\"An error occurred during booking: {e}\")\n",
    "            return None\n",
    "\n",
    "# Main program loop\n",
    "def main():\n",
    "    while True:\n",
    "        try:\n",
    "            print(\"\\nWelcome to the Wellness Retreat Booking System\")\n",
    "            print(\"1. Create a new booking\")\n",
    "            print(\"2. Exit\")\n",
    "\n",
    "            choice = int(input(\"Enter your choice: \"))\n",
    "            if choice == 1:\n",
    "                details = WellnessRetreat.create_from_input()\n",
    "                if details is not None:\n",
    "                    user_id, guests, time_slot, payment_details, location = details\n",
    "                    booking = WellnessRetreat(user_id, guests, time_slot, payment_details, location)\n",
    "\n",
    "                    booking.display_details()\n",
    "                    booking.save_to_file()\n",
    "                \n",
    "            elif choice == 2:\n",
    "                print(\"Exiting the system. Have a great day!\")\n",
    "                break\n",
    "            else:\n",
    "                print(\"Invalid choice, please try again.\")\n",
    "        except ValueError:\n",
    "            print(\"Invalid input, please enter a number.\")\n",
    "\n",
    "if __name__ == \"__main__\":\n",
    "    main()\n",
    "    "
   ]
  },
  {
   "cell_type": "code",
   "execution_count": null,
   "id": "dbfc6339-e0f2-479c-b3bd-6546aaa6244d",
   "metadata": {},
   "outputs": [],
   "source": []
  }
 ],
 "metadata": {
  "kernelspec": {
   "display_name": "Python 3 (ipykernel)",
   "language": "python",
   "name": "python3"
  },
  "language_info": {
   "codemirror_mode": {
    "name": "ipython",
    "version": 3
   },
   "file_extension": ".py",
   "mimetype": "text/x-python",
   "name": "python",
   "nbconvert_exporter": "python",
   "pygments_lexer": "ipython3",
   "version": "3.12.4"
  }
 },
 "nbformat": 4,
 "nbformat_minor": 5
}
